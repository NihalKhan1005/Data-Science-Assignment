{
 "cells": [
  {
   "cell_type": "markdown",
   "id": "05695a6c-aa5a-4fef-9616-514acb849562",
   "metadata": {},
   "source": [
    "## Exercise 1: Prime Numbers "
   ]
  },
  {
   "cell_type": "code",
   "execution_count": 1,
   "id": "4214de20-16f8-441b-baa1-02b6c0c4bc8e",
   "metadata": {},
   "outputs": [],
   "source": [
    "def is_prime(number):\n",
    "    if number <= 1:\n",
    "        return False\n",
    "    for i in range(2, int(number**0.5) + 1):\n",
    "        if number % i == 0:\n",
    "            return False\n",
    "    return True"
   ]
  },
  {
   "cell_type": "code",
   "execution_count": 2,
   "id": "a3ffbe49-61d0-48cc-ad2e-8cd024a0e6f0",
   "metadata": {},
   "outputs": [
    {
     "data": {
      "text/plain": [
       "False"
      ]
     },
     "execution_count": 2,
     "metadata": {},
     "output_type": "execute_result"
    }
   ],
   "source": [
    "is_prime(15)"
   ]
  },
  {
   "cell_type": "code",
   "execution_count": 3,
   "id": "65a86d7d-3cbb-4e2d-b36f-e168e84b35f9",
   "metadata": {},
   "outputs": [
    {
     "data": {
      "text/plain": [
       "True"
      ]
     },
     "execution_count": 3,
     "metadata": {},
     "output_type": "execute_result"
    }
   ],
   "source": [
    "is_prime(7)"
   ]
  },
  {
   "cell_type": "markdown",
   "id": "4b93ee90-83e5-4690-9751-19cdf13ab724",
   "metadata": {},
   "source": [
    "## Exercise 2: Product of Random Numbers "
   ]
  },
  {
   "cell_type": "code",
   "execution_count": 4,
   "id": "988894dc-3e51-4779-8c56-c2b11eb105fb",
   "metadata": {},
   "outputs": [],
   "source": [
    "import random\n",
    "\n",
    "def product_quiz():\n",
    "    num1 = random.randint(1, 10)\n",
    "    num2 = random.randint(1, 10)\n",
    "    correct_answer = num1 * num2\n",
    "    \n",
    "    print(f\"What is {num1} * {num2}?\")\n",
    "    user_answer = int(input(\"Enter your answer: \"))\n",
    "    \n",
    "    if user_answer == correct_answer:\n",
    "        print(\"Correct!\")\n",
    "    else:\n",
    "        print(f\"Wrong! The correct answer is {correct_answer}.\")"
   ]
  },
  {
   "cell_type": "code",
   "execution_count": 5,
   "id": "477b5558-1919-48c0-9f50-8145fb0c4c5c",
   "metadata": {},
   "outputs": [
    {
     "name": "stdout",
     "output_type": "stream",
     "text": [
      "What is 4 * 7?\n"
     ]
    },
    {
     "name": "stdin",
     "output_type": "stream",
     "text": [
      "Enter your answer:  28\n"
     ]
    },
    {
     "name": "stdout",
     "output_type": "stream",
     "text": [
      "Correct!\n"
     ]
    }
   ],
   "source": [
    "product_quiz()"
   ]
  },
  {
   "cell_type": "code",
   "execution_count": 6,
   "id": "b18e05f5-7a18-42fc-b9fe-0e6dde8f893f",
   "metadata": {},
   "outputs": [
    {
     "name": "stdout",
     "output_type": "stream",
     "text": [
      "What is 8 * 3?\n"
     ]
    },
    {
     "name": "stdin",
     "output_type": "stream",
     "text": [
      "Enter your answer:  33\n"
     ]
    },
    {
     "name": "stdout",
     "output_type": "stream",
     "text": [
      "Wrong! The correct answer is 24.\n"
     ]
    }
   ],
   "source": [
    "product_quiz()"
   ]
  },
  {
   "cell_type": "markdown",
   "id": "7552a9e6-1d59-4353-8288-47b53ced1699",
   "metadata": {},
   "source": [
    "## Exercise 3: Squares of Even/Odd Numbers "
   ]
  },
  {
   "cell_type": "code",
   "execution_count": 7,
   "id": "47aba66e-2ff2-4bc9-b13a-2defc48e2d72",
   "metadata": {},
   "outputs": [],
   "source": [
    "def squares_of_numbers(choice=\"even\"):\n",
    "    if choice == \"even\":\n",
    "        numbers = [i for i in range(100, 201) if i % 2 == 0]\n",
    "    else:\n",
    "        numbers = [i for i in range(100, 201) if i % 2 != 0]\n",
    "    \n",
    "    squares = {num: num**2 for num in numbers}\n",
    "    return squares"
   ]
  },
  {
   "cell_type": "code",
   "execution_count": 29,
   "id": "917b13b1-9dfd-4f40-a0a1-e63ccac9170a",
   "metadata": {},
   "outputs": [
    {
     "data": {
      "text/plain": [
       "{100: 10000,\n",
       " 102: 10404,\n",
       " 104: 10816,\n",
       " 106: 11236,\n",
       " 108: 11664,\n",
       " 110: 12100,\n",
       " 112: 12544,\n",
       " 114: 12996,\n",
       " 116: 13456,\n",
       " 118: 13924,\n",
       " 120: 14400,\n",
       " 122: 14884,\n",
       " 124: 15376,\n",
       " 126: 15876,\n",
       " 128: 16384,\n",
       " 130: 16900,\n",
       " 132: 17424,\n",
       " 134: 17956,\n",
       " 136: 18496,\n",
       " 138: 19044,\n",
       " 140: 19600,\n",
       " 142: 20164,\n",
       " 144: 20736,\n",
       " 146: 21316,\n",
       " 148: 21904,\n",
       " 150: 22500,\n",
       " 152: 23104,\n",
       " 154: 23716,\n",
       " 156: 24336,\n",
       " 158: 24964,\n",
       " 160: 25600,\n",
       " 162: 26244,\n",
       " 164: 26896,\n",
       " 166: 27556,\n",
       " 168: 28224,\n",
       " 170: 28900,\n",
       " 172: 29584,\n",
       " 174: 30276,\n",
       " 176: 30976,\n",
       " 178: 31684,\n",
       " 180: 32400,\n",
       " 182: 33124,\n",
       " 184: 33856,\n",
       " 186: 34596,\n",
       " 188: 35344,\n",
       " 190: 36100,\n",
       " 192: 36864,\n",
       " 194: 37636,\n",
       " 196: 38416,\n",
       " 198: 39204,\n",
       " 200: 40000}"
      ]
     },
     "execution_count": 29,
     "metadata": {},
     "output_type": "execute_result"
    }
   ],
   "source": [
    "squares_of_numbers('even')"
   ]
  },
  {
   "cell_type": "code",
   "execution_count": 30,
   "id": "a8db5c8c-96de-4916-8b0f-e0aad0c1c55a",
   "metadata": {},
   "outputs": [
    {
     "data": {
      "text/plain": [
       "{101: 10201,\n",
       " 103: 10609,\n",
       " 105: 11025,\n",
       " 107: 11449,\n",
       " 109: 11881,\n",
       " 111: 12321,\n",
       " 113: 12769,\n",
       " 115: 13225,\n",
       " 117: 13689,\n",
       " 119: 14161,\n",
       " 121: 14641,\n",
       " 123: 15129,\n",
       " 125: 15625,\n",
       " 127: 16129,\n",
       " 129: 16641,\n",
       " 131: 17161,\n",
       " 133: 17689,\n",
       " 135: 18225,\n",
       " 137: 18769,\n",
       " 139: 19321,\n",
       " 141: 19881,\n",
       " 143: 20449,\n",
       " 145: 21025,\n",
       " 147: 21609,\n",
       " 149: 22201,\n",
       " 151: 22801,\n",
       " 153: 23409,\n",
       " 155: 24025,\n",
       " 157: 24649,\n",
       " 159: 25281,\n",
       " 161: 25921,\n",
       " 163: 26569,\n",
       " 165: 27225,\n",
       " 167: 27889,\n",
       " 169: 28561,\n",
       " 171: 29241,\n",
       " 173: 29929,\n",
       " 175: 30625,\n",
       " 177: 31329,\n",
       " 179: 32041,\n",
       " 181: 32761,\n",
       " 183: 33489,\n",
       " 185: 34225,\n",
       " 187: 34969,\n",
       " 189: 35721,\n",
       " 191: 36481,\n",
       " 193: 37249,\n",
       " 195: 38025,\n",
       " 197: 38809,\n",
       " 199: 39601}"
      ]
     },
     "execution_count": 30,
     "metadata": {},
     "output_type": "execute_result"
    }
   ],
   "source": [
    "squares_of_numbers('odd')"
   ]
  },
  {
   "cell_type": "markdown",
   "id": "fe4aaa56-3736-4d18-a96b-b83c097d8758",
   "metadata": {},
   "source": [
    "## Exercise 5: Check for Palindrome "
   ]
  },
  {
   "cell_type": "code",
   "execution_count": 33,
   "id": "836423f7-2e2e-4180-b977-f4d69c8f936a",
   "metadata": {},
   "outputs": [
    {
     "name": "stdin",
     "output_type": "stream",
     "text": [
      "Enter a string to check for palindrome:  racecar\n"
     ]
    },
    {
     "name": "stdout",
     "output_type": "stream",
     "text": [
      "True\n"
     ]
    }
   ],
   "source": [
    "def is_palindrome(text):\n",
    "    text = text.replace(\" \", \"\").lower()\n",
    "    return text == text[::-1]  \n",
    "\n",
    "\n",
    "input_text = input(\"Enter a string to check for palindrome: \")\n",
    "if is_palindrome(input_text):\n",
    "    print(\"True\")\n",
    "else:\n",
    "    print(\"False\")"
   ]
  },
  {
   "cell_type": "code",
   "execution_count": 34,
   "id": "297580b1-036f-475b-a8f0-8a7f50eaafaf",
   "metadata": {},
   "outputs": [
    {
     "data": {
      "text/plain": [
       "False"
      ]
     },
     "execution_count": 34,
     "metadata": {},
     "output_type": "execute_result"
    }
   ],
   "source": [
    "is_palindrome('hello')"
   ]
  },
  {
   "cell_type": "code",
   "execution_count": 35,
   "id": "ebc9d9e7-adec-43a8-8c71-dc0aea1ad27c",
   "metadata": {},
   "outputs": [
    {
     "data": {
      "text/plain": [
       "True"
      ]
     },
     "execution_count": 35,
     "metadata": {},
     "output_type": "execute_result"
    }
   ],
   "source": [
    "is_palindrome('Nitin')"
   ]
  },
  {
   "cell_type": "code",
   "execution_count": 36,
   "id": "3905814a-67d9-42a9-8ac8-eec68f69e193",
   "metadata": {},
   "outputs": [
    {
     "data": {
      "text/plain": [
       "False"
      ]
     },
     "execution_count": 36,
     "metadata": {},
     "output_type": "execute_result"
    }
   ],
   "source": [
    "is_palindrome('Tree')"
   ]
  },
  {
   "cell_type": "markdown",
   "id": "7a8379fb-de51-413d-96c1-74515f883f5d",
   "metadata": {},
   "source": [
    "## Exercise 4: Word counter "
   ]
  },
  {
   "cell_type": "code",
   "execution_count": 27,
   "id": "e8adaf6d-5cc6-4ed6-8010-192a5124b269",
   "metadata": {},
   "outputs": [],
   "source": [
    "from collections import Counter\n",
    "import string\n",
    "\n",
    "def word_counter(text):\n",
    "    translator = str.maketrans('', '', string.punctuation)\n",
    "    words = text.translate(translator).lower().split()\n",
    "    \n",
    "    word_counts = Counter(words)\n",
    "    for word, count in word_counts.items():\n",
    "        print(f\"'{word}': {count}\")"
   ]
  },
  {
   "cell_type": "code",
   "execution_count": 28,
   "id": "0f768df4-38f9-4541-862a-f178909efaa9",
   "metadata": {},
   "outputs": [
    {
     "name": "stdout",
     "output_type": "stream",
     "text": [
      "'this': 2\n",
      "'is': 2\n",
      "'data': 1\n",
      "'science': 1\n",
      "'coures': 1\n",
      "'and': 1\n",
      "'my': 1\n",
      "'assignment': 1\n"
     ]
    }
   ],
   "source": [
    "word_counter('This is Data Science coures and this is my assignment')"
   ]
  },
  {
   "cell_type": "code",
   "execution_count": null,
   "id": "17bca341-19fa-41cf-b957-fbbb6ac87581",
   "metadata": {},
   "outputs": [],
   "source": []
  }
 ],
 "metadata": {
  "kernelspec": {
   "display_name": "Python 3 (ipykernel)",
   "language": "python",
   "name": "python3"
  },
  "language_info": {
   "codemirror_mode": {
    "name": "ipython",
    "version": 3
   },
   "file_extension": ".py",
   "mimetype": "text/x-python",
   "name": "python",
   "nbconvert_exporter": "python",
   "pygments_lexer": "ipython3",
   "version": "3.11.7"
  }
 },
 "nbformat": 4,
 "nbformat_minor": 5
}
