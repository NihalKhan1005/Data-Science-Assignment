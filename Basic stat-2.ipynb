{
 "cells": [
  {
   "cell_type": "code",
   "execution_count": 1,
   "id": "d746d1dc-6dd7-4298-8c9f-3f322ddf66ee",
   "metadata": {},
   "outputs": [],
   "source": [
    "import numpy as np\n",
    "from scipy.stats import t, norm"
   ]
  },
  {
   "cell_type": "code",
   "execution_count": 2,
   "id": "6e87e3c0-d143-441e-bf68-975cc17c41f6",
   "metadata": {},
   "outputs": [],
   "source": [
    "# Data: Durability of print-heads (in millions of characters)\n",
    "data = [1.13, 1.55, 1.43, 0.92, 1.25, 1.36, 1.32, 0.85, 1.07, 1.48, 1.20, 1.33, 1.18, 1.22, 1.29]\n",
    "\n",
    "# Sample size\n",
    "n = len(data)"
   ]
  },
  {
   "cell_type": "code",
   "execution_count": 3,
   "id": "6734df84-4cb4-4d9c-a40d-af72424573b8",
   "metadata": {},
   "outputs": [],
   "source": [
    "sample_mean = np.mean(data)"
   ]
  },
  {
   "cell_type": "code",
   "execution_count": 4,
   "id": "818a4b6c-8a78-4a7e-b9c6-15ae9e5eed19",
   "metadata": {},
   "outputs": [],
   "source": [
    "sample_std = np.std(data, ddof=1)"
   ]
  },
  {
   "cell_type": "code",
   "execution_count": 5,
   "id": "bb3649c5-90b9-4b04-9c48-17e493384176",
   "metadata": {},
   "outputs": [],
   "source": [
    "# a. 99% Confidence Interval Using Sample Standard Deviation\n",
    "# Confidence level\n",
    "confidence_level = 0.99\n",
    "alpha = 1 - confidence_level"
   ]
  },
  {
   "cell_type": "code",
   "execution_count": 6,
   "id": "5b64f8b4-00df-475b-aef7-06f092269cd8",
   "metadata": {},
   "outputs": [],
   "source": [
    "# Degrees of freedom\n",
    "df = n - 1"
   ]
  },
  {
   "cell_type": "code",
   "execution_count": 7,
   "id": "e1f90f3e-5303-4c59-ad14-b0a562fa0635",
   "metadata": {},
   "outputs": [],
   "source": [
    "# Critical value from the t-distribution\n",
    "t_critical = t.ppf(1 - alpha / 2, df)"
   ]
  },
  {
   "cell_type": "code",
   "execution_count": 8,
   "id": "8620b677-d882-4269-b789-ca61d7d68fb4",
   "metadata": {},
   "outputs": [],
   "source": [
    "# Margin of error\n",
    "margin_of_error_t = t_critical * (sample_std / np.sqrt(n))"
   ]
  },
  {
   "cell_type": "code",
   "execution_count": 9,
   "id": "db7aa77b-e694-4409-80c1-f4cca338a395",
   "metadata": {},
   "outputs": [],
   "source": [
    "# Confidence interval\n",
    "ci_t = (sample_mean - margin_of_error_t, sample_mean + margin_of_error_t)"
   ]
  },
  {
   "cell_type": "code",
   "execution_count": 15,
   "id": "89d50657-8206-4aa5-b184-9cfdc4d908f5",
   "metadata": {},
   "outputs": [],
   "source": [
    "# Convert to percentage\n",
    "ci_t_percentage = (ci_t[0] * 100, ci_t[1] * 100)"
   ]
  },
  {
   "cell_type": "code",
   "execution_count": 10,
   "id": "f908353a-9223-44fb-b8f2-b7264b7b8418",
   "metadata": {},
   "outputs": [],
   "source": [
    "# b. 99% Confidence Interval Using Known Population Standard Deviation\n",
    "# Known population standard deviation\n",
    "population_std = 0.2"
   ]
  },
  {
   "cell_type": "code",
   "execution_count": 11,
   "id": "768ee757-d6e8-4adc-b5e8-8bcc17f0c2ca",
   "metadata": {},
   "outputs": [],
   "source": [
    "# Critical value from the z-distribution\n",
    "z_critical = norm.ppf(1 - alpha / 2)"
   ]
  },
  {
   "cell_type": "code",
   "execution_count": 12,
   "id": "999d1718-eb60-42cf-bda4-39e1766a5752",
   "metadata": {},
   "outputs": [],
   "source": [
    "# Margin of error\n",
    "margin_of_error_z = z_critical * (population_std / np.sqrt(n))"
   ]
  },
  {
   "cell_type": "code",
   "execution_count": 13,
   "id": "bc648a11-68c4-4fd6-b7da-aa72f6f9c0af",
   "metadata": {},
   "outputs": [],
   "source": [
    "# Confidence interval\n",
    "ci_z = (sample_mean - margin_of_error_z, sample_mean + margin_of_error_z)"
   ]
  },
  {
   "cell_type": "code",
   "execution_count": 16,
   "id": "c194e52c-bf9c-479c-8fd8-eeb994197ad7",
   "metadata": {},
   "outputs": [],
   "source": [
    "# Convert to percentage\n",
    "ci_z_percentage = (ci_z[0] * 100, ci_z[1] * 100)"
   ]
  },
  {
   "cell_type": "code",
   "execution_count": 18,
   "id": "fa052fd3-1f9a-4d73-b8a2-dc2f4f100e26",
   "metadata": {},
   "outputs": [
    {
     "name": "stdout",
     "output_type": "stream",
     "text": [
      "Results:\n",
      "\n",
      "a. 99% Confidence Interval using Sample Standard Deviation (t-distribution): (109.0197338451367, 138.71359948819662)%\n",
      "b. 99% Confidence Interval using Known Population Standard Deviation (z-distribution): (110.56514133957607, 137.16819199375726)%\n"
     ]
    }
   ],
   "source": [
    "# Results\n",
    "print(\"Results:\\n\")\n",
    "print(f\"a. 99% Confidence Interval using Sample Standard Deviation (t-distribution): {ci_t_percentage}%\")\n",
    "print(f\"b. 99% Confidence Interval using Known Population Standard Deviation (z-distribution): {ci_z_percentage}%\")\n"
   ]
  },
  {
   "cell_type": "code",
   "execution_count": null,
   "id": "221e57a9-87c2-48c3-ae34-f56fc29dc358",
   "metadata": {},
   "outputs": [],
   "source": []
  }
 ],
 "metadata": {
  "kernelspec": {
   "display_name": "Python 3 (ipykernel)",
   "language": "python",
   "name": "python3"
  },
  "language_info": {
   "codemirror_mode": {
    "name": "ipython",
    "version": 3
   },
   "file_extension": ".py",
   "mimetype": "text/x-python",
   "name": "python",
   "nbconvert_exporter": "python",
   "pygments_lexer": "ipython3",
   "version": "3.11.7"
  }
 },
 "nbformat": 4,
 "nbformat_minor": 5
}
