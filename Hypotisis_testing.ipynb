{
 "cells": [
  {
   "cell_type": "markdown",
   "id": "2798653f-53ff-486f-bf4e-18755e7ef930",
   "metadata": {},
   "source": [
    "### CHI-SQUARE TEST"
   ]
  },
  {
   "cell_type": "code",
   "execution_count": 1,
   "id": "3730d67f-5543-4cf6-9157-14300bf2e870",
   "metadata": {},
   "outputs": [],
   "source": [
    "import numpy as np\n",
    "import pandas as pd\n",
    "from scipy.stats import chi2_contingency, chi2"
   ]
  },
  {
   "cell_type": "code",
   "execution_count": 2,
   "id": "4c04784f-ecab-471d-815f-3f9b3ddd253f",
   "metadata": {},
   "outputs": [],
   "source": [
    "data = {\n",
    "    \"Satisfaction\": [\"Very Satisfied\", \"Satisfied\", \"Neutral\", \"Unsatisfied\", \"Very Unsatisfied\"],\n",
    "    \"Smart Thermostat\": [50, 80, 60, 30, 20],\n",
    "    \"Smart Light\": [70, 100, 90, 50, 50],\n",
    "}\n"
   ]
  },
  {
   "cell_type": "code",
   "execution_count": 3,
   "id": "bbb686e0-6298-4817-bb7c-16409ae38e4c",
   "metadata": {},
   "outputs": [],
   "source": [
    "df = pd.DataFrame(data)\n",
    "\n",
    "df.set_index(\"Satisfaction\", inplace=True)"
   ]
  },
  {
   "cell_type": "code",
   "execution_count": 4,
   "id": "5d596387-a324-4296-a467-8cb0e668ed7a",
   "metadata": {},
   "outputs": [
    {
     "data": {
      "text/html": [
       "<div>\n",
       "<style scoped>\n",
       "    .dataframe tbody tr th:only-of-type {\n",
       "        vertical-align: middle;\n",
       "    }\n",
       "\n",
       "    .dataframe tbody tr th {\n",
       "        vertical-align: top;\n",
       "    }\n",
       "\n",
       "    .dataframe thead th {\n",
       "        text-align: right;\n",
       "    }\n",
       "</style>\n",
       "<table border=\"1\" class=\"dataframe\">\n",
       "  <thead>\n",
       "    <tr style=\"text-align: right;\">\n",
       "      <th></th>\n",
       "      <th>Smart Thermostat</th>\n",
       "      <th>Smart Light</th>\n",
       "    </tr>\n",
       "    <tr>\n",
       "      <th>Satisfaction</th>\n",
       "      <th></th>\n",
       "      <th></th>\n",
       "    </tr>\n",
       "  </thead>\n",
       "  <tbody>\n",
       "    <tr>\n",
       "      <th>Very Satisfied</th>\n",
       "      <td>50</td>\n",
       "      <td>70</td>\n",
       "    </tr>\n",
       "    <tr>\n",
       "      <th>Satisfied</th>\n",
       "      <td>80</td>\n",
       "      <td>100</td>\n",
       "    </tr>\n",
       "    <tr>\n",
       "      <th>Neutral</th>\n",
       "      <td>60</td>\n",
       "      <td>90</td>\n",
       "    </tr>\n",
       "  </tbody>\n",
       "</table>\n",
       "</div>"
      ],
      "text/plain": [
       "                Smart Thermostat  Smart Light\n",
       "Satisfaction                                 \n",
       "Very Satisfied                50           70\n",
       "Satisfied                     80          100\n",
       "Neutral                       60           90"
      ]
     },
     "execution_count": 4,
     "metadata": {},
     "output_type": "execute_result"
    }
   ],
   "source": [
    "df.head(3)"
   ]
  },
  {
   "cell_type": "code",
   "execution_count": 5,
   "id": "8f559122-bfb1-4540-bb31-7f6d690a7a07",
   "metadata": {},
   "outputs": [],
   "source": [
    "# Adding row and column totals\n",
    "df[\"Total\"] = df.sum(axis=1)\n",
    "col_totals = df.sum(axis=0)"
   ]
  },
  {
   "cell_type": "code",
   "execution_count": 6,
   "id": "a9479ae3-a4d2-45e2-bed9-55b746256c42",
   "metadata": {},
   "outputs": [
    {
     "name": "stdout",
     "output_type": "stream",
     "text": [
      "Contingency Table:\n",
      "                  Smart Thermostat  Smart Light  Total\n",
      "Satisfaction                                          \n",
      "Very Satisfied                  50           70    120\n",
      "Satisfied                       80          100    180\n",
      "Neutral                         60           90    150\n",
      "Unsatisfied                     30           50     80\n",
      "Very Unsatisfied                20           50     70\n",
      "Total                          240          360    600\n"
     ]
    }
   ],
   "source": [
    "df.loc[\"Total\"] = col_totals\n",
    "print(\"Contingency Table:\")\n",
    "print(df)"
   ]
  },
  {
   "cell_type": "code",
   "execution_count": 7,
   "id": "3b4e4f33-ede2-4184-b6d6-7e24c08d9889",
   "metadata": {},
   "outputs": [
    {
     "name": "stdout",
     "output_type": "stream",
     "text": [
      "\n",
      "Hypotheses:\n",
      "H0: There is no association between the type of smart home device and customer satisfaction.\n",
      "H1: There is an association between the type of smart home device and customer satisfaction.\n"
     ]
    }
   ],
   "source": [
    "# 1. State the Hypotheses\n",
    "print(\"\\nHypotheses:\")\n",
    "print(\"H0: There is no association between the type of smart home device and customer satisfaction.\")\n",
    "print(\"H1: There is an association between the type of smart home device and customer satisfaction.\")"
   ]
  },
  {
   "cell_type": "code",
   "execution_count": 8,
   "id": "6e8e1b79-42d0-4062-b05d-6f466104e8d3",
   "metadata": {},
   "outputs": [],
   "source": [
    "# 2. Compute the Chi-Square Statistic\n",
    "observed = np.array([\n",
    "    [50, 70],\n",
    "    [80, 100],\n",
    "    [60, 90],\n",
    "    [30, 50],\n",
    "    [20, 50]\n",
    "])"
   ]
  },
  {
   "cell_type": "code",
   "execution_count": 9,
   "id": "16d6a607-5e34-40d8-abe2-ad87f3b1f959",
   "metadata": {},
   "outputs": [],
   "source": [
    "chi2_stat, p, dof, expected = chi2_contingency(observed)"
   ]
  },
  {
   "cell_type": "code",
   "execution_count": 10,
   "id": "7d649438-77f0-401f-a50b-391201300edb",
   "metadata": {},
   "outputs": [
    {
     "name": "stdout",
     "output_type": "stream",
     "text": [
      "\n",
      "Chi-Square Test Results:\n",
      "Chi-Square Statistic: 5.6382\n",
      "p-value: 0.2278\n",
      "Degrees of Freedom: 4\n"
     ]
    }
   ],
   "source": [
    "print(\"\\nChi-Square Test Results:\")\n",
    "print(f\"Chi-Square Statistic: {chi2_stat:.4f}\")\n",
    "print(f\"p-value: {p:.4f}\")\n",
    "print(f\"Degrees of Freedom: {dof}\")"
   ]
  },
  {
   "cell_type": "code",
   "execution_count": 11,
   "id": "e88c5e42-1474-453c-9d2f-eb298b41f6d6",
   "metadata": {},
   "outputs": [
    {
     "name": "stdout",
     "output_type": "stream",
     "text": [
      "\n",
      "Expected Frequencies:\n",
      "                  Smart Thermostat  Smart Light\n",
      "Very Satisfied                48.0         72.0\n",
      "Satisfied                     72.0        108.0\n",
      "Neutral                       60.0         90.0\n",
      "Unsatisfied                   32.0         48.0\n",
      "Very Unsatisfied              28.0         42.0\n"
     ]
    }
   ],
   "source": [
    "# Displaying the expected frequencies\n",
    "expected_df = pd.DataFrame(\n",
    "    expected,\n",
    "    index=[\"Very Satisfied\", \"Satisfied\", \"Neutral\", \"Unsatisfied\", \"Very Unsatisfied\"],\n",
    "    columns=[\"Smart Thermostat\", \"Smart Light\"]\n",
    ")\n",
    "print(\"\\nExpected Frequencies:\")\n",
    "print(expected_df)"
   ]
  },
  {
   "cell_type": "code",
   "execution_count": 12,
   "id": "53f0def6-a512-4b34-9de2-490b8f48a005",
   "metadata": {},
   "outputs": [
    {
     "name": "stdout",
     "output_type": "stream",
     "text": [
      "\n",
      "Critical Value:\n",
      "Critical Value (alpha=0.05): 9.4877\n"
     ]
    }
   ],
   "source": [
    "# 3. Determine the Critical Value\n",
    "alpha = 0.05\n",
    "critical_value = chi2.ppf(1 - alpha, dof)\n",
    "\n",
    "print(\"\\nCritical Value:\")\n",
    "print(f\"Critical Value (alpha={alpha}): {critical_value:.4f}\")"
   ]
  },
  {
   "cell_type": "code",
   "execution_count": 13,
   "id": "03ae489d-2e91-4952-a533-9c8eae5fb710",
   "metadata": {},
   "outputs": [
    {
     "name": "stdout",
     "output_type": "stream",
     "text": [
      "\n",
      "Decision: Fail to reject the null hypothesis (H0).\n",
      "Conclusion: There is no significant association between the type of smart home device and customer satisfaction.\n"
     ]
    }
   ],
   "source": [
    "# 4. Make a Decision\n",
    "if chi2_stat > critical_value:\n",
    "    print(\"\\nDecision: Reject the null hypothesis (H0).\")\n",
    "    print(\"Conclusion: There is a significant association between the type of smart home device and customer satisfaction.\")\n",
    "else:\n",
    "    print(\"\\nDecision: Fail to reject the null hypothesis (H0).\")\n",
    "    print(\"Conclusion: There is no significant association between the type of smart home device and customer satisfaction.\")"
   ]
  },
  {
   "cell_type": "markdown",
   "id": "5cfd1593-0295-435f-b43a-e79ec496f1ed",
   "metadata": {},
   "source": [
    "### HYPOTHESIS TESTING"
   ]
  },
  {
   "cell_type": "code",
   "execution_count": 14,
   "id": "743c4561-8f1f-4635-9f18-ad5d0e6991f3",
   "metadata": {},
   "outputs": [],
   "source": [
    "import numpy as np\n",
    "from scipy.stats import norm"
   ]
  },
  {
   "cell_type": "code",
   "execution_count": 15,
   "id": "1e204ccc-a13c-421e-8ae7-813c532fbef8",
   "metadata": {},
   "outputs": [
    {
     "name": "stdout",
     "output_type": "stream",
     "text": [
      "Hypotheses:\n",
      "H0: The weekly operating cost follows the theoretical model W = $1,000 + $5X.\n",
      "H1: The weekly operating cost is higher than the theoretical model W = $1,000 + $5X.\n"
     ]
    }
   ],
   "source": [
    "# 1. State the Hypotheses\n",
    "print(\"Hypotheses:\")\n",
    "print(\"H0: The weekly operating cost follows the theoretical model W = $1,000 + $5X.\")\n",
    "print(\"H1: The weekly operating cost is higher than the theoretical model W = $1,000 + $5X.\")"
   ]
  },
  {
   "cell_type": "code",
   "execution_count": 16,
   "id": "d0396ed2-cca2-45df-ba29-6ab19253f423",
   "metadata": {},
   "outputs": [],
   "source": [
    "# Given Data\n",
    "sample_mean = 3050  # Rs.\n",
    "theoretical_mean = 1000 + 5 * 600  # Calculated theoretical weekly cost for X = 600\n",
    "sigma = 5 * 25  # Standard deviation of weekly costs\n",
    "n = 25  # Sample size"
   ]
  },
  {
   "cell_type": "code",
   "execution_count": 17,
   "id": "3f6747ae-456e-4deb-bf51-4a2d377712a9",
   "metadata": {},
   "outputs": [],
   "source": [
    "# 2. Calculate the Test Statistic\n",
    "t_stat = (sample_mean - theoretical_mean) / (sigma / np.sqrt(n))"
   ]
  },
  {
   "cell_type": "code",
   "execution_count": 19,
   "id": "0caecb9b-87b6-4fc7-9d54-5d622142caab",
   "metadata": {},
   "outputs": [
    {
     "name": "stdout",
     "output_type": "stream",
     "text": [
      "\n",
      "Test Statistic Calculation:\n",
      "Sample Mean: 3050\n",
      "Theoretical Mean: 4000\n",
      "Standard Deviation : 125\n",
      "Sample size : 25\n",
      "Test Statistic (t): -38.0000\n"
     ]
    }
   ],
   "source": [
    "print(\"\\nTest Statistic Calculation:\")\n",
    "print(f\"Sample Mean: {sample_mean}\")\n",
    "print(f\"Theoretical Mean: {theoretical_mean}\")\n",
    "print(f\"Standard Deviation : {sigma}\")\n",
    "print(f\"Sample size : {n}\")\n",
    "print(f\"Test Statistic (t): {t_stat:.4f}\")"
   ]
  },
  {
   "cell_type": "code",
   "execution_count": 20,
   "id": "4f1b0dbe-3745-46cd-9564-040e9c0a0a96",
   "metadata": {},
   "outputs": [
    {
     "name": "stdout",
     "output_type": "stream",
     "text": [
      "\n",
      "Critical Value:\n",
      "Alpha (α): 0.05\n",
      "Critical Value (Z): 1.6449\n"
     ]
    }
   ],
   "source": [
    "# 3. Determine the Critical Value\n",
    "alpha = 0.05\n",
    "critical_value = norm.ppf(1 - alpha)  # Z-value for a one-tailed test\n",
    "\n",
    "print(\"\\nCritical Value:\")\n",
    "print(f\"Alpha (\\u03b1): {alpha}\")\n",
    "print(f\"Critical Value (Z): {critical_value:.4f}\")\n"
   ]
  },
  {
   "cell_type": "code",
   "execution_count": null,
   "id": "430c6760-df25-4572-8ee7-b0abd0a342f3",
   "metadata": {},
   "outputs": [],
   "source": []
  }
 ],
 "metadata": {
  "kernelspec": {
   "display_name": "Python 3 (ipykernel)",
   "language": "python",
   "name": "python3"
  },
  "language_info": {
   "codemirror_mode": {
    "name": "ipython",
    "version": 3
   },
   "file_extension": ".py",
   "mimetype": "text/x-python",
   "name": "python",
   "nbconvert_exporter": "python",
   "pygments_lexer": "ipython3",
   "version": "3.11.7"
  }
 },
 "nbformat": 4,
 "nbformat_minor": 5
}
